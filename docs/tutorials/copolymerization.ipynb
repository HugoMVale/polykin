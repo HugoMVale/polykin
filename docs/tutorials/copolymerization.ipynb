{
 "cells": [
  {
   "attachments": {},
   "cell_type": "markdown",
   "metadata": {},
   "source": [
    "# Copolymerization\n",
    "\n",
    "[![Binder](https://mybinder.org/badge_logo.svg)](https://mybinder.org/v2/gh/HugoMVale/polykin/main?labpath=docs%2Ftutorials%2Fcopolymerization.ipynb)\n",
    "\n",
    "## Overview\n",
    "\n",
    "The `copolymerization` module offers a number of ..."
   ]
  }
 ],
 "metadata": {
  "kernelspec": {
   "display_name": ".venv",
   "language": "python",
   "name": "python3"
  },
  "language_info": {
   "name": "python",
   "version": "3.10.10"
  },
  "orig_nbformat": 4,
  "vscode": {
   "interpreter": {
    "hash": "da2ab70985ada8dda58759e178a0f4c7cdb4edc1c89589fe77308ff05d9634ac"
   }
  }
 },
 "nbformat": 4,
 "nbformat_minor": 2
}
