{
 "cells": [
  {
   "attachments": {},
   "cell_type": "markdown",
   "metadata": {},
   "source": [
    "## Overview\n",
    "\n",
    "The `coefficients` module offers a number of ..."
   ]
  }
 ],
 "metadata": {
  "kernelspec": {
   "display_name": ".venv",
   "language": "python",
   "name": "python3"
  },
  "language_info": {
   "name": "python",
   "version": "3.10.10"
  },
  "orig_nbformat": 4,
  "vscode": {
   "interpreter": {
    "hash": "da2ab70985ada8dda58759e178a0f4c7cdb4edc1c89589fe77308ff05d9634ac"
   }
  }
 },
 "nbformat": 4,
 "nbformat_minor": 2
}
